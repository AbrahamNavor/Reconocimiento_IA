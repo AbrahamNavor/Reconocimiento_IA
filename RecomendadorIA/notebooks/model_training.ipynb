{
 "cells": [
  {
   "cell_type": "code",
   "execution_count": null,
   "id": "c65bcb35",
   "metadata": {
    "vscode": {
     "languageId": "plaintext"
    }
   },
   "outputs": [],
   "source": [
    "import pandas as pd\n",
    "from sklearn.model_selection import train_test_split\n",
    "from sklearn.neighbors import KNeighborsClassifier\n",
    "from sklearn.metrics import accuracy_score\n",
    "from models.collaborative_filtering import CollaborativeFiltering\n",
    "from models.content_based_filtering import ContentBasedFiltering\n",
    "\n",
    "# Cargar el dataset\n",
    "df = pd.read_csv('../data/movie_lens_small.csv')\n",
    "\n",
    "# Filtrado Colaborativo\n",
    "cf_model = CollaborativeFiltering(df)\n",
    "user_similarity_matrix = cf_model.create_user_similarity_matrix()\n",
    "print(\"Matriz de Similitud de Usuarios:\\n\", user_similarity_matrix)\n",
    "\n",
    "# Filtrado por Contenido (ejemplo con una columna de descripción ficticia)\n",
    "df['description'] = 'Descripción del ítem'  # Añadir una columna de descripción ficticia\n",
    "cb_model = ContentBasedFiltering(df)\n",
    "tfidf_matrix = cb_model.create_tfidf_matrix()\n",
    "print(\"Matriz TF-IDF:\\n\", tfidf_matrix.toarray())\n",
    "\n",
    "# KNN\n",
    "# Preparar datos para KNN (ejemplo con columnas ficticias)\n",
    "df['feature1'] = 1\n",
    "df['feature2'] = 2\n",
    "X = df[['feature1', 'feature2']]\n",
    "y = df['rating']\n",
    "X_train, X_test, y_train, y_test = train_test_split(X, y, test_size=0.2, random_state=42)\n",
    "\n",
    "knn_model = KNeighborsClassifier(n_neighbors=5)\n",
    "knn_model.fit(X_train, y_train)\n",
    "y_pred = knn_model.predict(X_test)\n",
    "accuracy = accuracy_score(y_test, y_pred)\n",
    "print(f\"Precisión del modelo KNN: {accuracy}\")"
   ]
  }
 ],
 "metadata": {
  "language_info": {
   "name": "python"
  }
 },
 "nbformat": 4,
 "nbformat_minor": 5
}
