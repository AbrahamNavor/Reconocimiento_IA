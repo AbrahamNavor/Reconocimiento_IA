{
 "cells": [
  {
   "cell_type": "code",
   "execution_count": null,
   "id": "a53349b7",
   "metadata": {
    "vscode": {
     "languageId": "plaintext"
    }
   },
   "outputs": [],
   "source": [
    "import pandas as pd\n",
    "import matplotlib.pyplot as plt\n",
    "import seaborn as sns\n",
    "\n",
    "# Cargar el dataset\n",
    "df = pd.read_csv('../data/movie_lens_small.csv')\n",
    "\n",
    "# Mostrar las primeras filas\n",
    "print(df.head())\n",
    "\n",
    "# Información general del dataset\n",
    "print(df.info())\n",
    "\n",
    "# Estadísticas descriptivas\n",
    "print(df.describe())\n",
    "\n",
    "# Visualizaciones\n",
    "plt.figure(figsize=(10, 6))\n",
    "sns.histplot(df['rating'], bins=5)\n",
    "plt.title('Distribución de Ratings')\n",
    "plt.xlabel('Rating')\n",
    "plt.ylabel('Frecuencia')\n",
    "plt.show()\n",
    "\n",
    "plt.figure(figsize=(10, 6))\n",
    "sns.countplot(x='userId', data=df, order=df['userId'].value_counts().iloc[:10].index)\n",
    "plt.title('Top 10 Usuarios con más Ratings')\n",
    "plt.xlabel('Usuario')\n",
    "plt.ylabel('Cantidad de Ratings')\n",
    "plt.show()"
   ]
  }
 ],
 "metadata": {
  "language_info": {
   "name": "python"
  }
 },
 "nbformat": 4,
 "nbformat_minor": 5
}
